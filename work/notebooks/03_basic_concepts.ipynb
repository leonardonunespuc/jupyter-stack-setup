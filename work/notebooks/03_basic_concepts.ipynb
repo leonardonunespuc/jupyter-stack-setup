{
 "cells": [
  {
   "cell_type": "markdown",
   "metadata": {},
   "source": [
    "# Basic Concepts\n",
    "\n",
    "\n",
    "### Model\n",
    "The representation of what a machine learning algorithm has learned from the training data.\n",
    "\n",
    "### Training dataset\n",
    "Dataset used by a algorithm to learn some properties and build the model.\n",
    "\n",
    "### Test dataset\n",
    "Dataset used to test the properties a model learned from the training dataset.\n",
    "\n",
    "### Model training\n",
    "The process of determining the ideal parameters for a model algorithm.\n",
    "You repeat this process until the algorithm finds find the optimal parameters.\n",
    "\n",
    "### Model fitting\n",
    "The process of applying a dataset into a model.\n",
    "This will build a model to be used to predict results.\n",
    "\n",
    "### Supervised learning\n",
    "It might seem that it has something to do with human intervention, but it does not.\n",
    "It's usually used to make future predictions based on behaviors or characteristics of historical data.\n",
    "It searchs for patterns by relating all input fields to a target field.\n",
    "\n",
    "### Unsupervised learning\n",
    "Unsupervised learning uses historical data that has no target field.\n",
    "The aim is to explore the data and find some structure or to organize it.\n",
    "The goal is to discover groups of similar examples within the data, where it is called clustering.\n",
    "\n",
    "### Classification and regression\n",
    "These are concepts of supervised learning.\n",
    "A classification system predicts a category, while a regression predicts a number."
   ]
  },
  {
   "cell_type": "code",
   "execution_count": null,
   "metadata": {},
   "outputs": [],
   "source": []
  }
 ],
 "metadata": {
  "kernelspec": {
   "display_name": "Python 3",
   "language": "python",
   "name": "python3"
  },
  "language_info": {
   "codemirror_mode": {
    "name": "ipython",
    "version": 3
   },
   "file_extension": ".py",
   "mimetype": "text/x-python",
   "name": "python",
   "nbconvert_exporter": "python",
   "pygments_lexer": "ipython3",
   "version": "3.7.3"
  }
 },
 "nbformat": 4,
 "nbformat_minor": 2
}
